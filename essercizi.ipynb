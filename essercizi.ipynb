{
 "cells": [
  {
   "attachments": {},
   "cell_type": "markdown",
   "metadata": {},
   "source": [
    "Due cariche puntiformi di uguale valore distano 7.5 cm , nel punto medio il campo e 45 N/C, calcola il valore delle cariche "
   ]
  },
  {
   "attachments": {},
   "cell_type": "markdown",
   "metadata": {},
   "source": [
    "Allora: Le cariche hanno segno opposto, altrimenti sarebbe 0. Come sono uguali, ogni una produce un campo di 22.5 N/C nel punto medio (a 0.0375m) quindi:"
   ]
  },
  {
   "attachments": {},
   "cell_type": "markdown",
   "metadata": {},
   "source": [
    "$$ 22.5 = \\frac{k q}{ (0.0375)^2}  \\quad \\rightarrow  q = \\frac{22.5 \\cdot (0.0375)^2}{k} "
   ]
  },
  {
   "cell_type": "code",
   "execution_count": 5,
   "metadata": {},
   "outputs": [
    {
     "data": {
      "text/plain": [
       "3.519535595105673e-12"
      ]
     },
     "execution_count": 5,
     "metadata": {},
     "output_type": "execute_result"
    }
   ],
   "source": [
    "(22.5*(0.0375)**2)/(8.99*10**9)"
   ]
  },
  {
   "cell_type": "code",
   "execution_count": null,
   "metadata": {},
   "outputs": [],
   "source": []
  }
 ],
 "metadata": {
  "kernelspec": {
   "display_name": "base",
   "language": "python",
   "name": "python3"
  },
  "language_info": {
   "codemirror_mode": {
    "name": "ipython",
    "version": 3
   },
   "file_extension": ".py",
   "mimetype": "text/x-python",
   "name": "python",
   "nbconvert_exporter": "python",
   "pygments_lexer": "ipython3",
   "version": "3.9.12"
  },
  "orig_nbformat": 4,
  "vscode": {
   "interpreter": {
    "hash": "b04244f1ffa7cf3ea2f9ea0d323dd3851c253560749653b1d0c91ede3c797ba7"
   }
  }
 },
 "nbformat": 4,
 "nbformat_minor": 2
}
